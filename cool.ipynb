{
 "cells": [
  {
   "cell_type": "code",
   "execution_count": null,
   "id": "278ed332-b6bf-47d8-ad1c-5e01369101c7",
   "metadata": {},
   "outputs": [],
   "source": [
    "import pandas as pd"
   ]
  },
  {
   "cell_type": "code",
   "execution_count": null,
   "id": "41c89e59-0cc7-4a64-8bd8-612329f42190",
   "metadata": {},
   "outputs": [],
   "source": [
    "# Task 1.\n",
    "try:\n",
    "    df = pd.read_csv('Iris.csv')  # Replace with your dataset path\n",
    "    print(\"Dataset loaded successfully.\")\n",
    "except FileNotFoundError:\n",
    "    print(\"The file was not found. Please check the file path.\")\n",
    "    exit()  # Exit if the file is not found\n"
   ]
  },
  {
   "cell_type": "code",
   "execution_count": null,
   "id": "12a8294a-0e42-4373-a45b-b38a7d4d6dfb",
   "metadata": {},
   "outputs": [],
   "source": [
    "print(\"\\nFirst few rows of the dataset:\")\n",
    "print(df.head())\n"
   ]
  },
  {
   "cell_type": "code",
   "execution_count": null,
   "id": "07c33789-7bf0-4351-9cf6-8cfd00209375",
   "metadata": {},
   "outputs": [],
   "source": [
    "print(\"\\nData Types:\")\n",
    "print(df.dtypes)"
   ]
  },
  {
   "cell_type": "code",
   "execution_count": null,
   "id": "2e95a0b4-a508-4b68-83ad-e5df2c5c7081",
   "metadata": {},
   "outputs": [],
   "source": [
    "print(\"\\nMissing Values:\")\n",
    "print(df.isnull().sum())\n"
   ]
  },
  {
   "cell_type": "code",
   "execution_count": null,
   "id": "afccaa29-14a6-417e-ae1d-5a3619587539",
   "metadata": {},
   "outputs": [],
   "source": [
    "# Show missing values before filling\n",
    "print(\"Missing values before filling:\")\n",
    "print(df.isnull().sum())\n",
    "\n",
    "# Fill only numeric columns with their mean\n",
    "numeric_cols = df.select_dtypes(include='number').columns\n",
    "df[numeric_cols] = df[numeric_cols].fillna(df[numeric_cols].mean())\n",
    "\n",
    "# Show missing values after filling\n",
    "print(\"\\nMissing values after filling:\")\n",
    "print(df.isnull().sum())\n"
   ]
  },
  {
   "cell_type": "code",
   "execution_count": null,
   "id": "de5aae6e-d4b0-44f7-bd57-54247e40a4e1",
   "metadata": {},
   "outputs": [],
   "source": [
    "# Cleaning the dataset: \n",
    "# Although there are no missing values in this dataset, \n",
    "# the following code is included to demonstrate how to handle them.\n",
    "# It fills any missing numeric values with the mean of their respective columns.\n",
    "numeric_cols = df.select_dtypes(include='number').columns\n",
    "df[numeric_cols] = df[numeric_cols].fillna(df[numeric_cols].mean())\n"
   ]
  },
  {
   "cell_type": "code",
   "execution_count": null,
   "id": "c8d3bc5e-8214-4c76-80c7-a41ee206b071",
   "metadata": {},
   "outputs": [],
   "source": [
    "# Verifying that missing values have been handled\n",
    "print(\"\\nMissing values after filling:\")\n",
    "print(df.isnull().sum())\n"
   ]
  },
  {
   "cell_type": "code",
   "execution_count": null,
   "id": "a6902464-926e-420f-9249-f8e6d86df575",
   "metadata": {},
   "outputs": [],
   "source": [
    "# Task 2"
   ]
  },
  {
   "cell_type": "code",
   "execution_count": null,
   "id": "d156ca99-4975-4a06-8c59-d9f244de6a64",
   "metadata": {},
   "outputs": [],
   "source": [
    "# Basic statistics of numerical columns\n",
    "print(\"Basic statistical summary:\")\n",
    "print(df.describe())\n"
   ]
  },
  {
   "cell_type": "code",
   "execution_count": null,
   "id": "341774ad-dcac-451b-9eb3-4197d42b7e39",
   "metadata": {},
   "outputs": [],
   "source": [
    "# Grouping by species and calculating the mean of numeric columns\n",
    "print(\"\\nAverage measurements per species:\")\n",
    "print(df.groupby('Species').mean(numeric_only=True))\n"
   ]
  },
  {
   "cell_type": "code",
   "execution_count": null,
   "id": "82daf557-1d46-4c11-8a73-2366493e5f30",
   "metadata": {},
   "outputs": [],
   "source": [
    "## Observations:\n",
    "- Iris-setosa tends to have the smallest petal length and width.\n",
    "- Iris-virginica generally has the largest values in most measurements.\n",
    "- The features are distinct enough that we can potentially separate species based on these values.\n"
   ]
  },
  {
   "cell_type": "code",
   "execution_count": null,
   "id": "81b59025-ea2d-4f2b-a658-62bb87d6b3d1",
   "metadata": {},
   "outputs": [],
   "source": [
    "# Task 3. Data visualizations\n",
    "import matplotlib.pyplot as plt\n",
    "\n",
    "# Line chart for Petal Length\n",
    "plt.figure(figsize=(10, 5))\n",
    "plt.plot(df.index, df['PetalLengthCm'], label='Petal Length (cm)', color='green')\n",
    "plt.title(\"Petal Length Trend Over Index\")\n",
    "plt.xlabel(\"Index\")\n",
    "plt.ylabel(\"Petal Length (cm)\")\n",
    "plt.legend()\n",
    "plt.grid(True)\n",
    "plt.show()\n"
   ]
  },
  {
   "cell_type": "code",
   "execution_count": null,
   "id": "3833c608-bd11-4314-91ee-02255f0d3192",
   "metadata": {},
   "outputs": [],
   "source": [
    "# Bar chart comparing average petal length for each species\n",
    "species_means = df.groupby('Species')['PetalLengthCm'].mean()\n",
    "\n",
    "plt.figure(figsize=(8, 5))\n",
    "species_means.plot(kind='bar', color=['skyblue', 'lightgreen', 'salmon'])\n",
    "plt.title(\"Average Petal Length by Species\")\n",
    "plt.ylabel(\"Petal Length (cm)\")\n",
    "plt.xlabel(\"Species\")\n",
    "plt.xticks(rotation=45)\n",
    "plt.grid(axis='y')\n",
    "plt.show()\n"
   ]
  },
  {
   "cell_type": "code",
   "execution_count": null,
   "id": "31d515b2-3eb3-47cc-a30f-48677fdcc52b",
   "metadata": {},
   "outputs": [],
   "source": [
    "# Histogram of Sepal Width\n",
    "plt.figure(figsize=(8, 5))\n",
    "plt.hist(df['SepalWidthCm'], bins=15, color='purple', edgecolor='black')\n",
    "plt.title(\"Distribution of Sepal Width\")\n",
    "plt.xlabel(\"Sepal Width (cm)\")\n",
    "plt.ylabel(\"Frequency\")\n",
    "plt.grid(True)\n",
    "plt.show()\n"
   ]
  },
  {
   "cell_type": "code",
   "execution_count": null,
   "id": "541d9017-8402-423a-bc55-687410f9d21a",
   "metadata": {},
   "outputs": [],
   "source": [
    "# Scatter plot to show relationship between Sepal Length and Petal Length\n",
    "plt.figure(figsize=(8, 5))\n",
    "plt.scatter(df['SepalLengthCm'], df['PetalLengthCm'], c='blue', alpha=0.7)\n",
    "plt.title(\"Sepal Length vs Petal Length\")\n",
    "plt.xlabel(\"Sepal Length (cm)\")\n",
    "plt.ylabel(\"Petal Length (cm)\")\n",
    "plt.grid(True)\n",
    "plt.show()\n"
   ]
  },
  {
   "cell_type": "code",
   "execution_count": null,
   "id": "9ef1bc36-0431-40f8-95df-87b12b23ad38",
   "metadata": {},
   "outputs": [],
   "source": [
    "## Plot Insights:\n",
    "- Petal length shows clear trends by species.\n",
    "- Sepal width has a normal distribution.\n",
    "- There is a positive correlation between Sepal Length and Petal Length.\n"
   ]
  },
  {
   "cell_type": "code",
   "execution_count": null,
   "id": "29ddbf3d-4345-4c8c-a942-65772c7f492d",
   "metadata": {},
   "outputs": [],
   "source": [
    "import seaborn as sns"
   ]
  },
  {
   "cell_type": "code",
   "execution_count": null,
   "id": "ad1f1021-a4f4-4ec4-8fd5-fd1dae1d7763",
   "metadata": {},
   "outputs": [],
   "source": [
    "# Bar chart comparing average petal length for each species\n",
    "petal_length_col = 'PetalLengthCm' if 'PetalLengthCm' in df.columns else 'petal_length'\n",
    "species_col = 'Species' if 'Species' in df.columns else 'species'\n",
    "\n",
    "sns.barplot(x=species_col, y=petal_length_col, data=df, palette='viridis')\n",
    "plt.title('Average Petal Length by Species', fontsize=16)\n",
    "plt.xlabel('Species', fontsize=12)\n",
    "plt.ylabel('Petal Length (cm)', fontsize=12)\n",
    "plt.tight_layout()\n",
    "plt.savefig('iris_bar_chart.png')\n",
    "plt.show()"
   ]
  },
  {
   "cell_type": "code",
   "execution_count": null,
   "id": "d6b05678-c17b-459b-96bf-5fec68af2d1f",
   "metadata": {},
   "outputs": [],
   "source": [
    "# Histogram: Distribution of sepal width\n",
    "plt.figure(figsize=(12, 6))\n",
    "# Ensure we have the correct column name\n",
    "sepal_width_col = 'SepalWidthCm' if 'SepalWidthCm' in df.columns else 'sepal_width'\n",
    "\n",
    "sns.histplot(data=df, x=sepal_width_col, kde=True, bins=20, color='skyblue')\n",
    "plt.title('Distribution of Sepal Width', fontsize=16)\n",
    "plt.xlabel('Sepal Width (cm)', fontsize=12)\n",
    "plt.ylabel('Frequency', fontsize=12)\n",
    "plt.tight_layout()\n",
    "plt.savefig('iris_histogram.png')\n",
    "plt.show()"
   ]
  },
  {
   "cell_type": "code",
   "execution_count": null,
   "id": "aef962ae-99a7-4a58-b7a5-b731f66ffff8",
   "metadata": {},
   "outputs": [],
   "source": []
  }
 ],
 "metadata": {
  "kernelspec": {
   "display_name": "anaconda-2024.02-py310",
   "language": "python",
   "name": "conda-env-anaconda-2024.02-py310-py"
  },
  "language_info": {
   "codemirror_mode": {
    "name": "ipython",
    "version": 3
   },
   "file_extension": ".py",
   "mimetype": "text/x-python",
   "name": "python",
   "nbconvert_exporter": "python",
   "pygments_lexer": "ipython3",
   "version": "3.10.14"
  }
 },
 "nbformat": 4,
 "nbformat_minor": 5
}
